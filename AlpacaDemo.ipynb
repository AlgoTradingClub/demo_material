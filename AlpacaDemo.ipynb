{
 "cells": [
  {
   "cell_type": "code",
   "execution_count": 2,
   "metadata": {},
   "outputs": [],
   "source": [
    "import alpaca_trade_api as trade_api\n",
    "import pandas as pd\n",
    "import os"
   ]
  },
  {
   "cell_type": "code",
   "execution_count": 3,
   "metadata": {},
   "outputs": [],
   "source": [
    "os.environ['APCA_API_KEY_ID'] = 'YOUR KEY HERE'\n",
    "os.environ['APCA_API_SECRET_KEY'] = 'YOUR SECRET KEY HERE'\n",
    "os.environ['APCA_API_BASE_URL'] = 'https://paper-api.alpaca.markets'"
   ]
  },
  {
   "cell_type": "code",
   "execution_count": 4,
   "metadata": {},
   "outputs": [],
   "source": [
    "api = trade_api.REST()"
   ]
  },
  {
   "cell_type": "code",
   "execution_count": 5,
   "metadata": {},
   "outputs": [],
   "source": [
    "symbols = api.list_assets()"
   ]
  },
  {
   "cell_type": "code",
   "execution_count": 7,
   "metadata": {},
   "outputs": [
    {
     "data": {
      "text/plain": [
       "8522"
      ]
     },
     "execution_count": 7,
     "metadata": {},
     "output_type": "execute_result"
    }
   ],
   "source": [
    "len(symbols)"
   ]
  },
  {
   "cell_type": "code",
   "execution_count": 9,
   "metadata": {},
   "outputs": [
    {
     "name": "stdout",
     "output_type": "stream",
     "text": [
      "7386\n"
     ]
    }
   ],
   "source": [
    "tradable_symbols = [symbol for symbol in symbols if symbol.tradable]\n",
    "print(len(tradable_symbols))"
   ]
  },
  {
   "cell_type": "code",
   "execution_count": 10,
   "metadata": {},
   "outputs": [],
   "source": [
    "tickers = [symbol.symbol for symbol in tradable_symbols]"
   ]
  },
  {
   "cell_type": "code",
   "execution_count": 14,
   "metadata": {},
   "outputs": [],
   "source": [
    "financials_df = pd.DataFrame()\n",
    "financials = api.polygon.financials(tickers[:20])"
   ]
  },
  {
   "cell_type": "code",
   "execution_count": 21,
   "metadata": {},
   "outputs": [
    {
     "data": {
      "text/plain": [
       "{'symbol': 'NVDA',\n",
       " 'reportDate': '2018-10-31T00:00:00.000Z',\n",
       " 'reportDateStr': '2018-10-31',\n",
       " 'grossProfit': 1921000000,\n",
       " 'costOfRevenue': 1260000000,\n",
       " 'operatingRevenue': 3181000000,\n",
       " 'totalRevenue': 3181000000,\n",
       " 'operatingIncome': 1058000000,\n",
       " 'netIncome': 1230000000,\n",
       " 'researchAndDevelopment': 605000000,\n",
       " 'operatingExpense': 863000000,\n",
       " 'currentAssets': 11386000000,\n",
       " 'totalAssets': 13657000000,\n",
       " 'totalLiabilities': None,\n",
       " 'currentCash': 721000000,\n",
       " 'currentDebt': 3000000,\n",
       " 'totalCash': 7591000000,\n",
       " 'totalDebt': 1990000000,\n",
       " 'shareholderEquity': 9475000000,\n",
       " 'cashChange': 3000000,\n",
       " 'cashFlow': 487000000,\n",
       " 'operatingGainsLosses': None}"
      ]
     },
     "execution_count": 21,
     "metadata": {},
     "output_type": "execute_result"
    }
   ],
   "source": [
    "financials['NVDA'][0]._raw"
   ]
  },
  {
   "cell_type": "code",
   "execution_count": 22,
   "metadata": {},
   "outputs": [],
   "source": [
    "for symbol, f in financials.items():\n",
    "    most_recent = f[0]\n",
    "    f_dict = most_recent._raw\n",
    "    financials_df = financials_df.append(pd.Series(f_dict, name=symbol))"
   ]
  },
  {
   "cell_type": "code",
   "execution_count": 25,
   "metadata": {},
   "outputs": [
    {
     "data": {
      "text/plain": [
       "NVDA    1.921e+09\n",
       "SNPS    594333000\n",
       "PSTG    206165000\n",
       "LFUS    179594000\n",
       "UIS     153800000\n",
       "CHH     153174000\n",
       "COLD    101485000\n",
       "NGD       3.8e+07\n",
       "PSTI         4000\n",
       "ZYME         None\n",
       "FFBC         None\n",
       "AMPE         None\n",
       "Name: grossProfit, dtype: object"
      ]
     },
     "execution_count": 25,
     "metadata": {},
     "output_type": "execute_result"
    }
   ],
   "source": [
    "financials_df.sort_values(by='grossProfit', ascending=False)['grossProfit']"
   ]
  },
  {
   "cell_type": "code",
   "execution_count": 27,
   "metadata": {},
   "outputs": [
    {
     "data": {
      "text/html": [
       "<div>\n",
       "<style scoped>\n",
       "    .dataframe tbody tr th:only-of-type {\n",
       "        vertical-align: middle;\n",
       "    }\n",
       "\n",
       "    .dataframe tbody tr th {\n",
       "        vertical-align: top;\n",
       "    }\n",
       "\n",
       "    .dataframe thead th {\n",
       "        text-align: right;\n",
       "    }\n",
       "</style>\n",
       "<table border=\"1\" class=\"dataframe\">\n",
       "  <thead>\n",
       "    <tr style=\"text-align: right;\">\n",
       "      <th></th>\n",
       "      <th>cashChange</th>\n",
       "      <th>cashFlow</th>\n",
       "      <th>costOfRevenue</th>\n",
       "      <th>currentAssets</th>\n",
       "      <th>currentCash</th>\n",
       "      <th>currentDebt</th>\n",
       "      <th>grossProfit</th>\n",
       "      <th>netIncome</th>\n",
       "      <th>operatingExpense</th>\n",
       "      <th>operatingGainsLosses</th>\n",
       "      <th>...</th>\n",
       "      <th>reportDate</th>\n",
       "      <th>reportDateStr</th>\n",
       "      <th>researchAndDevelopment</th>\n",
       "      <th>shareholderEquity</th>\n",
       "      <th>symbol</th>\n",
       "      <th>totalAssets</th>\n",
       "      <th>totalCash</th>\n",
       "      <th>totalDebt</th>\n",
       "      <th>totalLiabilities</th>\n",
       "      <th>totalRevenue</th>\n",
       "    </tr>\n",
       "  </thead>\n",
       "  <tbody>\n",
       "    <tr>\n",
       "      <th>NVDA</th>\n",
       "      <td>3000000.0</td>\n",
       "      <td>487000000.0</td>\n",
       "      <td>1.26e+09</td>\n",
       "      <td>1.1386e+10</td>\n",
       "      <td>721000000.0</td>\n",
       "      <td>3e+06</td>\n",
       "      <td>1.921e+09</td>\n",
       "      <td>1.230000e+09</td>\n",
       "      <td>8.63e+08</td>\n",
       "      <td>None</td>\n",
       "      <td>...</td>\n",
       "      <td>2018-10-31T00:00:00.000Z</td>\n",
       "      <td>2018-10-31</td>\n",
       "      <td>6.05e+08</td>\n",
       "      <td>9.475000e+09</td>\n",
       "      <td>NVDA</td>\n",
       "      <td>1.365700e+10</td>\n",
       "      <td>7.591e+09</td>\n",
       "      <td>1.99e+09</td>\n",
       "      <td>None</td>\n",
       "      <td>3.181e+09</td>\n",
       "    </tr>\n",
       "    <tr>\n",
       "      <th>PSTG</th>\n",
       "      <td>-365404000.0</td>\n",
       "      <td>8484000.0</td>\n",
       "      <td>102719000</td>\n",
       "      <td>1.45034e+09</td>\n",
       "      <td>386235000.0</td>\n",
       "      <td>None</td>\n",
       "      <td>206165000</td>\n",
       "      <td>-6.012300e+07</td>\n",
       "      <td>2.61371e+08</td>\n",
       "      <td>None</td>\n",
       "      <td>...</td>\n",
       "      <td>2018-07-31T00:00:00.000Z</td>\n",
       "      <td>2018-07-31</td>\n",
       "      <td>84031000</td>\n",
       "      <td>6.443940e+08</td>\n",
       "      <td>PSTG</td>\n",
       "      <td>1.646229e+09</td>\n",
       "      <td>1.10666e+09</td>\n",
       "      <td>None</td>\n",
       "      <td>None</td>\n",
       "      <td>3.08884e+08</td>\n",
       "    </tr>\n",
       "    <tr>\n",
       "      <th>SNPS</th>\n",
       "      <td>180034000.0</td>\n",
       "      <td>289206000.0</td>\n",
       "      <td>185381000</td>\n",
       "      <td>1.46558e+09</td>\n",
       "      <td>741236000.0</td>\n",
       "      <td>497808000</td>\n",
       "      <td>594333000</td>\n",
       "      <td>7.940900e+07</td>\n",
       "      <td>5.30342e+08</td>\n",
       "      <td>None</td>\n",
       "      <td>...</td>\n",
       "      <td>2018-07-31T00:00:00.000Z</td>\n",
       "      <td>2018-07-31</td>\n",
       "      <td>277402000</td>\n",
       "      <td>3.158139e+09</td>\n",
       "      <td>SNPS</td>\n",
       "      <td>5.795215e+09</td>\n",
       "      <td>7.41236e+08</td>\n",
       "      <td>621558000</td>\n",
       "      <td>None</td>\n",
       "      <td>7.79714e+08</td>\n",
       "    </tr>\n",
       "  </tbody>\n",
       "</table>\n",
       "<p>3 rows × 22 columns</p>\n",
       "</div>"
      ],
      "text/plain": [
       "       cashChange     cashFlow costOfRevenue currentAssets  currentCash  \\\n",
       "NVDA    3000000.0  487000000.0      1.26e+09    1.1386e+10  721000000.0   \n",
       "PSTG -365404000.0    8484000.0     102719000   1.45034e+09  386235000.0   \n",
       "SNPS  180034000.0  289206000.0     185381000   1.46558e+09  741236000.0   \n",
       "\n",
       "     currentDebt grossProfit     netIncome operatingExpense  \\\n",
       "NVDA       3e+06   1.921e+09  1.230000e+09         8.63e+08   \n",
       "PSTG        None   206165000 -6.012300e+07      2.61371e+08   \n",
       "SNPS   497808000   594333000  7.940900e+07      5.30342e+08   \n",
       "\n",
       "     operatingGainsLosses     ...                     reportDate  \\\n",
       "NVDA                 None     ...       2018-10-31T00:00:00.000Z   \n",
       "PSTG                 None     ...       2018-07-31T00:00:00.000Z   \n",
       "SNPS                 None     ...       2018-07-31T00:00:00.000Z   \n",
       "\n",
       "     reportDateStr researchAndDevelopment shareholderEquity symbol  \\\n",
       "NVDA    2018-10-31               6.05e+08      9.475000e+09   NVDA   \n",
       "PSTG    2018-07-31               84031000      6.443940e+08   PSTG   \n",
       "SNPS    2018-07-31              277402000      3.158139e+09   SNPS   \n",
       "\n",
       "       totalAssets    totalCash  totalDebt totalLiabilities totalRevenue  \n",
       "NVDA  1.365700e+10    7.591e+09   1.99e+09             None    3.181e+09  \n",
       "PSTG  1.646229e+09  1.10666e+09       None             None  3.08884e+08  \n",
       "SNPS  5.795215e+09  7.41236e+08  621558000             None  7.79714e+08  \n",
       "\n",
       "[3 rows x 22 columns]"
      ]
     },
     "execution_count": 27,
     "metadata": {},
     "output_type": "execute_result"
    }
   ],
   "source": [
    "financials_df.loc[financials_df['grossProfit'] >= 2e8]"
   ]
  },
  {
   "cell_type": "code",
   "execution_count": 26,
   "metadata": {},
   "outputs": [
    {
     "data": {
      "text/plain": [
       "NVDA     True\n",
       "NGD     False\n",
       "ZYME    False\n",
       "PSTG     True\n",
       "LFUS    False\n",
       "SNPS     True\n",
       "UIS     False\n",
       "FFBC    False\n",
       "CHH     False\n",
       "AMPE    False\n",
       "PSTI    False\n",
       "COLD    False\n",
       "Name: grossProfit, dtype: bool"
      ]
     },
     "execution_count": 26,
     "metadata": {},
     "output_type": "execute_result"
    }
   ],
   "source": [
    "financials_df['grossProfit'] >= 2e8"
   ]
  },
  {
   "cell_type": "code",
   "execution_count": 29,
   "metadata": {},
   "outputs": [
    {
     "data": {
      "text/plain": [
       "Order({   'asset_class': 'us_equity',\n",
       "    'asset_id': 'b0b6dd9d-8b9b-48a9-ba46-b9d54906e415',\n",
       "    'canceled_at': None,\n",
       "    'client_order_id': 'a78ff88b-b6b1-4f72-baf9-3fa0ae770d38',\n",
       "    'created_at': '2020-01-24T00:14:32.779788Z',\n",
       "    'expired_at': None,\n",
       "    'extended_hours': False,\n",
       "    'failed_at': None,\n",
       "    'filled_at': None,\n",
       "    'filled_avg_price': None,\n",
       "    'filled_qty': '0',\n",
       "    'id': '5d44ff73-ee6a-42a8-822b-5786e44a2c1b',\n",
       "    'legs': None,\n",
       "    'limit_price': None,\n",
       "    'order_type': 'market',\n",
       "    'qty': '1',\n",
       "    'replaced_at': None,\n",
       "    'replaced_by': None,\n",
       "    'replaces': None,\n",
       "    'side': 'buy',\n",
       "    'status': 'new',\n",
       "    'stop_price': None,\n",
       "    'submitted_at': '2020-01-24T00:14:32.753314Z',\n",
       "    'symbol': 'AAPL',\n",
       "    'time_in_force': 'day',\n",
       "    'type': 'market',\n",
       "    'updated_at': '2020-01-24T00:14:32.783185Z'})"
      ]
     },
     "execution_count": 29,
     "metadata": {},
     "output_type": "execute_result"
    }
   ],
   "source": [
    "api.submit_order(symbol='AAPL', type='market', qty=1, side='buy', time_in_force='day')"
   ]
  }
 ],
 "metadata": {
  "kernelspec": {
   "display_name": "Python 3",
   "language": "python",
   "name": "python3"
  },
  "language_info": {
   "codemirror_mode": {
    "name": "ipython",
    "version": 3
   },
   "file_extension": ".py",
   "mimetype": "text/x-python",
   "name": "python",
   "nbconvert_exporter": "python",
   "pygments_lexer": "ipython3",
   "version": "3.6.9"
  }
 },
 "nbformat": 4,
 "nbformat_minor": 4
}
